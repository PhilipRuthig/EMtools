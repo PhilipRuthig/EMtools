{
 "cells": [
  {
   "cell_type": "markdown",
   "metadata": {},
   "source": [
    "### Preprocess training data\n",
    "\n",
    "This is a helper script to preprocess training data that was generated with GIMP. GIMP outputs usually don't have perfect edges - they are always slightly blurry, even if you pick the hardest brush. This script changes that and ensures the labels actually touch."
   ]
  },
  {
   "cell_type": "code",
   "execution_count": null,
   "metadata": {},
   "outputs": [],
   "source": [
    "import cv2\n",
    "import matplotlib.pyplot as plt\n",
    "import scipy.ndimage as ndi\n",
    "import skimage\n",
    "from skimage.transform import downscale_local_mean\n",
    "import tqdm\n",
    "from skimage.morphology import disk\n",
    "import numpy as np\n",
    "\n",
    "# lists of paired raw and manually labeled data\n",
    "path_raw = (\n",
    "            r\"annas_labels/C61 8Mo ON67-0923 L5drvr_1_raw.png\",\n",
    "            r\"annas_labels/C61 8Mo ON67-0923 L5drvr_2_raw.png\",\n",
    "            r\"annas_labels/C61 8Mo ON67-0923 NSNF_raw.png\",\n",
    "            r\"annas_labels/C61 8Mo ON67-0932 L5drvr_raw.png\",\n",
    "            r\"annas_labels/C61_P18_272-6wt_drvrL5_01_raw.png\",\n",
    "            r\"annas_labels/C61_P18_273-1tg_drvrL5_01_raw.png\",\n",
    "            r\"annas_labels/C61_P18_273-5 tg_NsNf_01_raw.png\",\n",
    "            )\n",
    "\n",
    "path_seg = (\n",
    "            r\"annas_labels/C61 8Mo ON67-0923 L5drvr_1_layer.png\",\n",
    "            r\"annas_labels/C61 8Mo ON67-0923 L5drvr_2_layer.png\",\n",
    "            r\"annas_labels/C61 8Mo ON67-0923 NSNF_layer.png\",\n",
    "            r\"annas_labels/C61 8Mo ON67-0932 L5drvr_layer.png\",\n",
    "            r\"annas_labels/C61_P18_272-6wt_drvrL5_01_layer.png\",\n",
    "            r\"annas_labels/C61_P18_273-1tg_drvrL5_01_layer.png\",\n",
    "            r\"annas_labels/C61_P18_273-5 tg_NsNf_01_layer.png\",\n",
    "            )\n",
    "\n",
    "# output directory\n",
    "path_results = r\"annas_labels/processed\"\n"
   ]
  },
  {
   "cell_type": "code",
   "execution_count": null,
   "metadata": {},
   "outputs": [],
   "source": [
    "for i in tqdm.tqdm(range(len(path_raw))):\n",
    "    raw = cv2.imread(path_raw[i])\n",
    "    seg = cv2.imread(path_seg[i])\n",
    "    #BGR\n",
    "    #get thresholded binary images\n",
    "    seg_blue = seg[:,:,0]>50 # myelin\n",
    "    seg_green = seg[:,:,1]>50 # low density myelin\n",
    "    seg_red = seg[:,:,2]>20  # fibers\n",
    "\n",
    "    # # dilate green, restrict to blue\n",
    "    # seg_green = ndi.binary_dilation(seg_green,structure=disk(2))\n",
    "    # seg_green[seg_blue==True]=0\n",
    "\n",
    "    # dilate blue, restrict to red and green\n",
    "    seg_blue = ndi.binary_dilation(seg_blue,structure=disk(2))\n",
    "    seg_blue[seg_red==True]=0\n",
    "    seg_blue = seg_blue+seg_green\n",
    "\n",
    "    # dilate red, restrict to blue and green\n",
    "    seg_red = ndi.binary_dilation(seg_red,structure=disk(2))\n",
    "    seg_red[seg_blue==True]=0\n",
    "    # seg_red[seg_green==True]=0\n",
    "\n",
    "    raw = skimage.exposure.equalize_adapthist(raw,clip_limit=0.01,kernel_size=127)\n",
    "    # raw_rgb_png = cv2.merge((downscale_local_mean(raw[:,:,0],1),  #R\n",
    "    #                          downscale_local_mean(raw[:,:,1],1),    #G\n",
    "    #                          downscale_local_mean(raw[:,:,2],1)))   #B\n",
    "    plt.imshow(raw)\n",
    "    # combine back together to RGB\n",
    "    seg_final = cv2.merge((downscale_local_mean(seg_red,1),  #R\n",
    "                           downscale_local_mean(np.zeros_like(seg_red),1),#G\n",
    "                           downscale_local_mean(seg_blue,1)))#B\n",
    "    skimage.io.imsave(path_results + rf\"/AS_labels_{i}.png\", (seg_final*255).astype('uint8'))\n",
    "    skimage.io.imsave(path_results + rf\"/AS_raw_{i}.png\", (raw*255).astype('uint8'))"
   ]
  }
 ],
 "metadata": {
  "kernelspec": {
   "display_name": "base",
   "language": "python",
   "name": "python3"
  },
  "language_info": {
   "codemirror_mode": {
    "name": "ipython",
    "version": 3
   },
   "file_extension": ".py",
   "mimetype": "text/x-python",
   "name": "python",
   "nbconvert_exporter": "python",
   "pygments_lexer": "ipython3",
   "version": "3.9.18"
  }
 },
 "nbformat": 4,
 "nbformat_minor": 2
}
