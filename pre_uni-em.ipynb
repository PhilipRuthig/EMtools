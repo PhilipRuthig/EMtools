{
 "cells": [
  {
   "cell_type": "markdown",
   "metadata": {},
   "source": [
    "#### This notebook preprocesses images for prediction using a DNN trained with Uni-EM.\n",
    "It opens a series of .tiff files in `path_input` and applies CLAHE (Contrast limited adaptive histogram equalization), which enhances the local contrast of images. It then re-saves them as RGB .png files to `path_results`. After using this notebook on your raw data, the images can be used for segmentation, e.g. with Uni-EM.\n"
   ]
  },
  {
   "cell_type": "code",
   "execution_count": null,
   "metadata": {},
   "outputs": [],
   "source": [
    "%matplotlib notebook\n",
    "import tifffile as tf\n",
    "import cv2\n",
    "import matplotlib.pyplot as plt\n",
    "from os import listdir\n",
    "from os.path import isfile, join\n",
    "import skimage\n",
    "from skimage.transform import downscale_local_mean\n",
    "import tqdm"
   ]
  },
  {
   "cell_type": "code",
   "execution_count": null,
   "metadata": {},
   "outputs": [],
   "source": [
    "def chunk_generator(img_shape, chunk_size, overlap):\n",
    "    '''\n",
    "    Returns a sequence of coordinates every time it is called with next() that can be used to cycle through 3D arrays in blocks.\n",
    "\n",
    "    Inputs:\n",
    "    img_shape: image shape(z,y,x)\n",
    "    chunk_size: desired chunk size (z,y,x)\n",
    "    overlap: overlap (in pixels) on every side of the chunk\n",
    "\n",
    "    Outputs:\n",
    "    6 integers giving the start & end coordinates in all axes in the following order:\n",
    "    xstart, xend, ystart, yend, zstart, zend\n",
    "\n",
    "    to do:\n",
    "        rest of image calculation, uneven boundaries\n",
    "        n-dimensional image compatibility\n",
    "    '''\n",
    "\n",
    "    z_start = 0 \n",
    "    z_end   = chunk_size[0]\n",
    "    y_start = 0\n",
    "    y_end   = chunk_size[1]\n",
    "    x_start = 0\n",
    "    x_end   = chunk_size[2]\n",
    "    \n",
    "    while x_end <= img_shape[2]: #if x_end exceeds x boundary of image, all is done\n",
    "\n",
    "        yield (z_start, z_end, y_start, y_end, x_start, x_end)\n",
    "\n",
    "        z_start = z_start + chunk_size[0] - 2 * overlap\n",
    "        z_end   = z_start + chunk_size[0]\n",
    "        \n",
    "        # if z_end exceeds img shape: move y_start (and reset z_start)\n",
    "        if z_end > img_shape[0]:\n",
    "            y_start = y_start + chunk_size[1] - 2 * overlap\n",
    "            y_end   = y_start + chunk_size[1]\n",
    "            z_start = 0\n",
    "            z_end   = chunk_size[0]\n",
    "        \n",
    "        # if z_end AND y_end exceed img shape: move x_start (and reset y_start and z_start)\n",
    "        if y_end > img_shape[1]:\n",
    "            x_start = x_start + chunk_size[2] - 2 * overlap\n",
    "            x_end   = x_start + chunk_size[2]\n",
    "            z_start = 0\n",
    "            z_end   = chunk_size[0]\n",
    "            y_start = 0\n",
    "            y_end   = chunk_size[1]\n",
    "\n",
    "    yield z_start, z_end, y_start, y_end, x_start, x_end\n",
    "\n",
    "def remove_whitespaces(string):\n",
    "    return \"\".join(string.split())"
   ]
  },
  {
   "cell_type": "code",
   "execution_count": null,
   "metadata": {},
   "outputs": [],
   "source": [
    "# user inputs\n",
    "path_input = r\"G:\\AG_Morawski\\Philip\\EM\\SWM_Directionality\\1_raw\\\\\"\n",
    "path_results = r\"G:\\AG_Morawski\\Philip\\EM\\SWM_Directionality\\2_preprocessed\\\\\"\n",
    "downscale_factor = 4 # factor 4 this is the correct factor for \n",
    "crop_threshold = 100 # intensity threshold for background - if your image has black background, define a threshold here."
   ]
  },
  {
   "cell_type": "code",
   "execution_count": null,
   "metadata": {},
   "outputs": [],
   "source": [
    "path_images = [f for f in listdir(path_input) if isfile(join(path_input, f))]\n",
    "\n",
    "for i in tqdm.tqdm(range(len(path_images))):\n",
    "    print(\"Preprocessing Images \" + str(i))\n",
    "    if path_images[i].endswith(\".tif\") or path_images[i].endswith(\".tiff\"):\n",
    "        test_img = tf.imread(path_input + str(path_images[i])) # use this for tiff\n",
    "    elif path_images[i].endswith(\".png\"):\n",
    "        test_img = cv2.imread(path_input + str(path_images[i]),-1)[:,:,0] # use this for png \n",
    "    else:\n",
    "        print('Input file format not supported. Use .png or .tif.')\n",
    "        break\n",
    "    coord_list = []\n",
    "    for z_start, z_end, y_start, y_end, x_start, x_end in chunk_generator(test_img.shape, (2048*4,2048*4,3),0):\n",
    "        coord_list.append((z_start,z_end,y_start,y_end,x_start,x_end))\n",
    "    for zyx in tqdm.tqdm(coord_list):\n",
    "        test_img_clahe = skimage.exposure.equalize_adapthist(test_img[zyx[0]:zyx[1],zyx[2]:zyx[3],zyx[4]:zyx[5]],clip_limit=0.01,kernel_size=127)\n",
    "        test_img_downscaled = downscale_local_mean(test_img_clahe, downscale_factor)\n",
    "        test_img_rgb_png = cv2.merge((downscale_local_mean(test_img_downscaled,1),  #R\n",
    "                                    downscale_local_mean(test_img_downscaled,1),    #G\n",
    "                                    downscale_local_mean(test_img_downscaled,1)))   #B\n",
    "        skimage.io.imsave(path_results + path_images[i][:-4] + remove_whitespaces(str(zyx)) +  \".png\", (test_img_rgb_png*255).astype('uint8'))"
   ]
  },
  {
   "cell_type": "code",
   "execution_count": null,
   "metadata": {},
   "outputs": [],
   "source": []
  }
 ],
 "metadata": {
  "kernelspec": {
   "display_name": "Python 3 (ipykernel)",
   "language": "python",
   "name": "python3"
  },
  "language_info": {
   "codemirror_mode": {
    "name": "ipython",
    "version": 3
   },
   "file_extension": ".py",
   "mimetype": "text/x-python",
   "name": "python",
   "nbconvert_exporter": "python",
   "pygments_lexer": "ipython3",
   "version": "3.9.15"
  }
 },
 "nbformat": 4,
 "nbformat_minor": 2
}
