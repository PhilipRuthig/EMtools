{
 "cells": [
  {
   "attachments": {},
   "cell_type": "markdown",
   "metadata": {},
   "source": [
    "#### This notebook preprocesses images for prediction using a DNN trained with Uni-EM.\n",
    "It opens a series of .tiff files in `path_input` and applies CLAHE (Contrast limited adaptive histogram equalization), which enhances the local contrast of images. It then re-saves them as RGB .png files to `path_results`. After using this notebook on your raw data, the images can be used for segmentation, e.g. with Uni-EM.\n"
   ]
  },
  {
   "cell_type": "code",
   "execution_count": null,
   "metadata": {},
   "outputs": [],
   "source": [
    "%matplotlib notebook\n",
    "import tifffile as tf\n",
    "import cv2\n",
    "import matplotlib.pyplot as plt\n",
    "from os import listdir\n",
    "from os.path import isfile, join\n",
    "import skimage\n",
    "from skimage.transform import downscale_local_mean\n",
    "import tqdm"
   ]
  },
  {
   "cell_type": "code",
   "execution_count": null,
   "metadata": {},
   "outputs": [],
   "source": [
    "# user inputs\n",
    "path_input = r\"G:/AG_Morawski/Philip/EM/cc_test_all/test_img\\\\\"\n",
    "path_results = r\"G:/AG_Morawski/Philip/EM/cc_test_all/test_img_preprocessed\\\\\"\n",
    "downscale_factor = 1 # factor 4 this is the correct factor for \n",
    "path_images = [f for f in listdir(path_input) if isfile(join(path_input, f))]"
   ]
  },
  {
   "cell_type": "code",
   "execution_count": null,
   "metadata": {},
   "outputs": [],
   "source": [
    "print(\"Preprocessing Images..\")\n",
    "\n",
    "for i in tqdm.tqdm(range(len(path_images))):\n",
    "    if path_images[i].endswith(\".tif\") or path_images[i].endswith(\".tiff\"):\n",
    "        test_img = tf.imread(path_input + str(path_images[i])) # use this for tiff\n",
    "    if path_images[i].endswith(\".png\"):\n",
    "        test_img = cv2.imread(path_input + str(path_images[i]),-1)[:,:,0] # use this for png \n",
    "    else:\n",
    "        print('Input file format not supported. Use .png or .tif.')\n",
    "        break\n",
    "    test_img_clahe = skimage.exposure.equalize_adapthist(test_img,clip_limit=0.01,kernel_size=127)\n",
    "    test_img_downscaled = downscale_local_mean(test_img_clahe, downscale_factor)\n",
    "    test_img_rgb_png = cv2.merge((downscale_local_mean(test_img_downscaled,1),  #R\n",
    "                                downscale_local_mean(test_img_downscaled,1),    #G\n",
    "                                downscale_local_mean(test_img_downscaled,1)))   #B\n",
    "    skimage.io.imsave(path_results + path_images[i][:-4] + \".png\", (test_img_rgb_png*255).astype('uint8'))\n"
   ]
  }
 ],
 "metadata": {
  "kernelspec": {
   "display_name": "Python 3 (ipykernel)",
   "language": "python",
   "name": "python3"
  },
  "language_info": {
   "codemirror_mode": {
    "name": "ipython",
    "version": 3
   },
   "file_extension": ".py",
   "mimetype": "text/x-python",
   "name": "python",
   "nbconvert_exporter": "python",
   "pygments_lexer": "ipython3",
   "version": "3.9.15"
  }
 },
 "nbformat": 4,
 "nbformat_minor": 2
}
