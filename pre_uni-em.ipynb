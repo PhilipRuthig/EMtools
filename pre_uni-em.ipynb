{
 "cells": [
  {
   "cell_type": "markdown",
   "metadata": {},
   "source": [
    "#### This notebook preprocesses images for prediction using a DNN trained with Uni-EM.\n",
    "It opens a series of .tiff files in `path_input` and applies CLAHE (Contrast limited adaptive histogram equalization), which enhances the local contrast of images. It then re-saves them as RGB .png files to `path_results`. After using this notebook on your raw data, the images can be used for segmentation, e.g. with Uni-EM.\n"
   ]
  },
  {
   "cell_type": "code",
   "execution_count": 4,
   "metadata": {},
   "outputs": [],
   "source": [
    "%matplotlib notebook\n",
    "import tifffile as tf\n",
    "import cv2\n",
    "import matplotlib.pyplot as plt\n",
    "from os import listdir\n",
    "from os.path import isfile, join\n",
    "import skimage\n",
    "from skimage.transform import downscale_local_mean\n",
    "import tqdm"
   ]
  },
  {
   "cell_type": "code",
   "execution_count": 5,
   "metadata": {},
   "outputs": [],
   "source": [
    "# user inputs\n",
    "path_input = r\"G:\\AG_Morawski\\Philip\\EM\\cc_test_all\\test_img - Copy\\\\\"\n",
    "path_results = r\"G:\\AG_Morawski\\Philip\\EM\\cc_test_all\\test_img - Copy - preprocessed again\\\\\"\n",
    "downscale_factor = 1 # factor 4 this is the correct factor for \n",
    "path_images = [f for f in listdir(path_input) if isfile(join(path_input, f))]"
   ]
  },
  {
   "cell_type": "code",
   "execution_count": 8,
   "metadata": {},
   "outputs": [
    {
     "name": "stdout",
     "output_type": "stream",
     "text": [
      "Preprocessing Images..\n"
     ]
    },
    {
     "name": "stderr",
     "output_type": "stream",
     "text": [
      "100%|██████████████████████████████████████████████████████████████████████████████████| 38/38 [23:19<00:00, 36.82s/it]\n"
     ]
    }
   ],
   "source": [
    "print(\"Preprocessing Images..\")\n",
    "\n",
    "for i in tqdm.tqdm(range(len(path_images))):\n",
    "#    test_img = tf.imread(path_input + str(path_images[i])) # use this for tiff\n",
    "    test_img = cv2.imread(path_input + str(path_images[i]),-1)[:,:,0] # use this for png \n",
    "    test_img_clahe = skimage.exposure.equalize_adapthist(test_img,clip_limit=0.01,kernel_size=127)\n",
    "    test_img_downscaled = downscale_local_mean(test_img_clahe, downscale_factor)\n",
    "    test_img_rgb_png = cv2.merge((downscale_local_mean(test_img_downscaled,1),  #R\n",
    "                                downscale_local_mean(test_img_downscaled,1),    #G\n",
    "                                downscale_local_mean(test_img_downscaled,1)))   #B\n",
    "    skimage.io.imsave(path_results + path_images[i][:-4] + \".png\", (test_img_rgb_png*255).astype('uint8'))\n"
   ]
  },
  {
   "cell_type": "markdown",
   "metadata": {},
   "source": [
    "#### To continue:\n",
    "- Open Uni-EM on the desktop (`Uni-EM\\main.exe`) - startup might take a minute\n",
    "- Open the following three folders by dragging them into the Uni-EM window. There is no feedback to this from the program, only in the accompanying terminal.\n",
    "    - The folder your preprocessed images are in: `path_results`\n",
    "    - an empty folder you want your predicted images to be in\n",
    "    - the model folder `E:\\AG_Morawski\\Philip\\EM\\20230419_densenet_12_12_20`\n",
    "- Click Segmentation -> 2D DNN and then highlight the inference tab\n",
    "- Select the three folders you already opened above as Image folder, Model Folder, and Output Segmentation folder.\n",
    "- Select the maximum maximal unit size (2048)\n",
    "- Click \"Execute\". The whole process should take a few minutes to an hour, depending on how many images are in the folder.\n",
    "- After that, continue in `post_uni-em.ipynb`"
   ]
  },
  {
   "cell_type": "code",
   "execution_count": 7,
   "metadata": {},
   "outputs": [
    {
     "data": {
      "text/plain": [
       "(6472, 6210, 3)"
      ]
     },
     "execution_count": 7,
     "metadata": {},
     "output_type": "execute_result"
    }
   ],
   "source": [
    "test_img.shape"
   ]
  }
 ],
 "metadata": {
  "kernelspec": {
   "display_name": "Python 3 (ipykernel)",
   "language": "python",
   "name": "python3"
  },
  "language_info": {
   "codemirror_mode": {
    "name": "ipython",
    "version": 3
   },
   "file_extension": ".py",
   "mimetype": "text/x-python",
   "name": "python",
   "nbconvert_exporter": "python",
   "pygments_lexer": "ipython3",
   "version": "3.9.15"
  }
 },
 "nbformat": 4,
 "nbformat_minor": 2
}
